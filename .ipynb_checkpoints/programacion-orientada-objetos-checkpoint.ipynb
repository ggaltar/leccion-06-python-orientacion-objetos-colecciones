{
 "cells": [
  {
   "cell_type": "markdown",
   "metadata": {},
   "source": [
    "# Programación Orientada a Objetos"
   ]
  },
  {
   "cell_type": "markdown",
   "metadata": {},
   "source": [
    "Modificaciones de Gabriel Corrales"
   ]
  },
  {
   "cell_type": "markdown",
   "metadata": {},
   "source": [
    "La [Programación Orientada a Objetos (POO)](https://en.wikipedia.org/wiki/Object-oriented_programming) es un [paradigma de programación](https://en.wikipedia.org/wiki/Programming_paradigm) basado en el concepto de **objeto**. En el contexto de la POO, los objetos son entidades que poseen:\n",
    "- **Estado**: implementado con un conjunto de variables llamadas **propiedades**.\n",
    "- **Comportamiento**: implementado con un conjunto de funciones llamadas **métodos**.\n",
    "\n",
    "Los objetos se agrupan en [clases](https://docs.python.org/3/tutorial/classes.html). Todos los objetos de una clase contienen los mismos métodos y propiedades. Una clase puede verse como una plantilla o “machote” a partir de la cual se crean objetos. A un objeto creado a partir de una clase se le llama también una **instancia** de esa clase."
   ]
  },
  {
   "cell_type": "code",
   "execution_count": 1,
   "metadata": {},
   "outputs": [],
   "source": [
    "# Definición de la clase cuentaBancaria\n",
    "class cuentaBancaria:\n",
    "    # Propiedades\n",
    "    propietario = \"\"\n",
    "    balance = 0\n",
    "    \n",
    "    # Métodos\n",
    "    # Constructor de la clase: crea nuevas instancias e inicializa las propiedades\n",
    "    def __init__(self, propietario, balance):\n",
    "        self.propietario = propietario\n",
    "        self.balance = balance\n",
    "    \n",
    "    # Método para realizar depósitos\n",
    "    def depositar(self, monto):\n",
    "        self.balance = self.balance + monto\n",
    "\n",
    "    # Método para realizar retiros\n",
    "    def retirar(self, monto):\n",
    "        self.balance = self.balance - monto\n",
    "\n",
    "    # Método para imprimir información\n",
    "    def imprimirInformacion(self):\n",
    "        print(\"Propietario: \" + self.propietario + \", Balance: \" + str(self.balance))       "
   ]
  },
  {
   "cell_type": "markdown",
   "metadata": {},
   "source": [
    "Una vez definida una clase, pueden declararse objetos o instancias de esta. Las instancias pueden invocar métodos de la clase mediante la notación:\n",
    "\n",
    "```python\n",
    "    <instancia>.<método>\n",
    "``` \n",
    "\n",
    "A continuación, se presentan algunos ejemplos de instancias de la clase _cuentaBancaria_ y de llamados a sus métodos."
   ]
  },
  {
   "cell_type": "code",
   "execution_count": 2,
   "metadata": {},
   "outputs": [
    {
     "name": "stdout",
     "output_type": "stream",
     "text": [
      "Propietario: Juan Pérez, Balance: 6000\n"
     ]
    }
   ],
   "source": [
    "# Instancia cuenta01\n",
    "cuenta01 = cuentaBancaria(\"Juan Pérez\", 1000)\n",
    "cuenta01.depositar(5000)\n",
    "cuenta01.imprimirInformacion()"
   ]
  },
  {
   "cell_type": "code",
   "execution_count": 3,
   "metadata": {},
   "outputs": [
    {
     "name": "stdout",
     "output_type": "stream",
     "text": [
      "Propietario: María Pérez, Balance: 1000\n"
     ]
    }
   ],
   "source": [
    "# Instancia cuenta02\n",
    "cuenta02 = cuentaBancaria(\"María Pérez\", 10000)\n",
    "cuenta02.depositar(15000)\n",
    "cuenta02.retirar(24000)\n",
    "cuenta02.imprimirInformacion()"
   ]
  },
  {
   "cell_type": "markdown",
   "metadata": {},
   "source": [
    "## Objetos y clases predefinidas de Python"
   ]
  },
  {
   "cell_type": "markdown",
   "metadata": {},
   "source": [
    "Todos los datos de un programa en Python se representan mediante objetos o por relaciones entre objetos. Los tipos de datos corresponden a las clases de los objetos."
   ]
  },
  {
   "cell_type": "code",
   "execution_count": 4,
   "metadata": {},
   "outputs": [
    {
     "name": "stdout",
     "output_type": "stream",
     "text": [
      "<class 'int'>\n"
     ]
    }
   ],
   "source": [
    "# Clase int\n",
    "print(type(234))"
   ]
  },
  {
   "cell_type": "code",
   "execution_count": 5,
   "metadata": {},
   "outputs": [
    {
     "name": "stdout",
     "output_type": "stream",
     "text": [
      "<class 'float'>\n"
     ]
    }
   ],
   "source": [
    "# Clase float\n",
    "print(type(10.3))"
   ]
  },
  {
   "cell_type": "code",
   "execution_count": 6,
   "metadata": {},
   "outputs": [
    {
     "name": "stdout",
     "output_type": "stream",
     "text": [
      "<class 'bool'>\n"
     ]
    }
   ],
   "source": [
    "# Clase bool\n",
    "print(type(True))"
   ]
  },
  {
   "cell_type": "code",
   "execution_count": 7,
   "metadata": {},
   "outputs": [
    {
     "name": "stdout",
     "output_type": "stream",
     "text": [
      "<class 'list'>\n"
     ]
    }
   ],
   "source": [
    "# Clase list\n",
    "print(type([True, 23, 20.6, (1, 2, 3)]))"
   ]
  },
  {
   "cell_type": "markdown",
   "metadata": {},
   "source": [
    "El que un dato sea un objeto, implica que además de su valor tiene un conjunto de operaciones asociadas (métodos) que se aplican mediante operadores (ej. +, -, *, %) o funciones (ej. len(), type()). Tanto los operadores como las funciones pueden aplicarse en varias clases. Por ejemplo, el operador + se usa para _int_, _float_, _str_, _list_ y otras clases; _len()_ se usa también en varios tipos de datos."
   ]
  }
 ],
 "metadata": {
  "kernelspec": {
   "display_name": "Python 3",
   "language": "python",
   "name": "python3"
  },
  "language_info": {
   "codemirror_mode": {
    "name": "ipython",
    "version": 3
   },
   "file_extension": ".py",
   "mimetype": "text/x-python",
   "name": "python",
   "nbconvert_exporter": "python",
   "pygments_lexer": "ipython3",
   "version": "3.8.3"
  }
 },
 "nbformat": 4,
 "nbformat_minor": 2
}
